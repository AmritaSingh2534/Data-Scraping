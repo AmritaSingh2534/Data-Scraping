{
 "cells": [
  {
   "cell_type": "code",
   "execution_count": null,
   "id": "f663f537",
   "metadata": {},
   "outputs": [],
   "source": [
    "# Importing necessary libraries:\n",
    "\n",
    "from bs4 import BeautifulSoup\n",
    "from selenium import webdriver\n",
    "from selenium.webdriver.common.by import By\n",
    "from selenium.webdriver.common.keys import Keys\n",
    "from selenium.webdriver.support.ui import WebDriverWait\n",
    "from selenium.webdriver.support import expected_conditions as EC\n",
    "import pandas as pd\n",
    "import time"
   ]
  },
  {
   "cell_type": "code",
   "execution_count": null,
   "id": "b5038824",
   "metadata": {},
   "outputs": [],
   "source": [
    "# Running ChromeDriver to open new chrome window\n",
    "driver = webdriver.Chrome(\"/C:/Users/admin/chromedriver.exe\")\n",
    "\n",
    "# Code Starts: Defining empty list to load data\n",
    "driver.get(\"https://www.zomato.com/bangalore/anand-sweets-and-savouries-koramangala-5th-block-bangalore/reviews\")"
   ]
  },
  {
   "cell_type": "code",
   "execution_count": null,
   "id": "35ac18c2",
   "metadata": {},
   "outputs": [],
   "source": [
    "# Defining the empty lists to store  values:\n",
    "customer= []\n",
    "stars= []\n",
    "reviews= []\n",
    "Times = []\n",
    "Rated_on= []\n",
    "\n",
    "# loop through all pages\n",
    "while True:\n",
    "    # extract the page source using Selenium\n",
    "    content = driver.page_source\n",
    "\n",
    "    # parse the page source using BeautifulSoup\n",
    "    soup = BeautifulSoup(content, 'html.parser')\n",
    "    \n",
    "#   Extracting of the various information from webpage:\n",
    "# The two classes mentioned below a choice from which the soup will pick the values according to the page if classes are continuously changing\n",
    "    customer_elements = soup.select('p.sc-1hez2tp-0 sc-bQQHgq jqbtKk, p.sc-1hez2tp-0.sc-wENpt.cXjVyn')\n",
    "    for element in customer_elements:\n",
    "        customer.append(element.text) #extracting customer name\n",
    "        \n",
    "    sitaare = driver.find_elements(By.CLASS_NAME, \"sc-1q7bklc-1.cILgox\")\n",
    "    for star in sitaare:\n",
    "        stars.append(star.text) #extracting ratings given\n",
    "    \n",
    "    comments = soup.find_all('p', attrs={'class':\"sc-1hez2tp-0 sc-cBOTKl koyCoy\"})\n",
    "    for review in comments:\n",
    "        reviews.append(review.text) #extracting reviews/comments written\n",
    "    \n",
    "    times = soup.find_all('p', attrs={'class':\"sc-1hez2tp-0 fKvqMN time-stamp\"})\n",
    "    for din in times:\n",
    "        Times.append(din.text) #extracting the date on which comment was written\n",
    "\n",
    "    Rates = soup.find_all('div', attrs={'class':\"sc-1q7bklc-9 dYrjiw\"})\n",
    "    for off in Rates:\n",
    "        Rated_on.append(off.text) #extracting ratings given for which purpose dining/delivery\n",
    "    \n",
    "#   Code to click on the next button if no next button found then exit from loop\n",
    "    try:\n",
    "        next_button = driver.find_element(By.CSS_SELECTOR, '#root > div > main > div > section.sc-iWadT.iQDWbX > div > div > section > div.sc-czyBUM.bHuesy > div.sc-feLwoP.goxSPJ > div > a.sc-hoiiUa.sc-eEOpXj.sc-fZEjqe.ihcTji > i')\n",
    "        next_button.click()\n",
    "        time.sleep(2)\n",
    "    except:\n",
    "        break\n",
    "\n",
    "# close the webdriver\n",
    "driver.quit()"
   ]
  },
  {
   "cell_type": "code",
   "execution_count": null,
   "id": "6075480f",
   "metadata": {},
   "outputs": [],
   "source": [
    "# print the data\n",
    "print(customer)\n",
    "print(stars)\n",
    "print(reviews)\n",
    "print(Times)\n",
    "print(Rated_on)"
   ]
  },
  {
   "cell_type": "code",
   "execution_count": null,
   "id": "22b490c3",
   "metadata": {},
   "outputs": [],
   "source": [
    "# clearing the not useful ratings and blank spaces\n",
    "T= stars\n",
    "new_list1 = [x for x in T if x not in ['3.6', '4.0', '']]\n",
    "print(new_list1)"
   ]
  },
  {
   "cell_type": "code",
   "execution_count": null,
   "id": "266b175f",
   "metadata": {},
   "outputs": [],
   "source": [
    "# sample dataframe with a column containing lists\n",
    "df1 = pd.DataFrame({\"Name\": customer, \"Stars\": new_list1, \"Rated_on\": Rated_on, \"Reviews\": reviews,\"Time\": Times})\n",
    "df1['Store Name']=\"KRM\"\n",
    "\n",
    "# exporting the dataframe as a Excel file in your system\n",
    "df1.to_excel('C:/Users/admin/KRM.xlsx', index=False)"
   ]
  }
 ],
 "metadata": {
  "kernelspec": {
   "display_name": "Python 3 (ipykernel)",
   "language": "python",
   "name": "python3"
  },
  "language_info": {
   "codemirror_mode": {
    "name": "ipython",
    "version": 3
   },
   "file_extension": ".py",
   "mimetype": "text/x-python",
   "name": "python",
   "nbconvert_exporter": "python",
   "pygments_lexer": "ipython3",
   "version": "3.9.12"
  }
 },
 "nbformat": 4,
 "nbformat_minor": 5
}
